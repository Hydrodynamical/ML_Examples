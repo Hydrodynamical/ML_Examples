{
 "cells": [
  {
   "cell_type": "code",
   "execution_count": 1,
   "id": "fab67ae9-63b2-4de2-b891-852cde37008f",
   "metadata": {},
   "outputs": [],
   "source": [
    "import torch\n",
    "from torch import nn\n",
    "from torch.utils.data import DataLoader\n",
    "from torchvision import datasets\n",
    "from torchvision.transforms import ToTensor"
   ]
  },
  {
   "cell_type": "code",
   "execution_count": 2,
   "id": "5fe21377-6494-45a4-bac1-550c5c15e293",
   "metadata": {},
   "outputs": [],
   "source": [
    "training_data = datasets.MNIST(\n",
    "    root = \"data\",\n",
    "    train = True,\n",
    "    download = True,\n",
    "    transform = ToTensor(),\n",
    ")\n",
    "\n",
    "test_data = datasets.MNIST(\n",
    "    root = \"data\",\n",
    "    train = False,\n",
    "    download = True,\n",
    "    transform = ToTensor(),\n",
    ")"
   ]
  },
  {
   "cell_type": "code",
   "execution_count": 3,
   "id": "0b794218-1b9c-4412-9f36-5c86b78a5832",
   "metadata": {},
   "outputs": [
    {
     "name": "stdout",
     "output_type": "stream",
     "text": [
      "Shape of X [N, C, H, W]: torch.Size([64, 1, 28, 28])\n",
      "Shape of y: torch.Size([64]), torch.int64\n"
     ]
    }
   ],
   "source": [
    "batch_size = 64\n",
    "\n",
    "train_dataloader = DataLoader(training_data, batch_size = batch_size)\n",
    "test_dataloader = DataLoader(test_data, batch_size = batch_size)\n",
    "\n",
    "for X, y in test_dataloader:\n",
    "    print(f\"Shape of X [N, C, H, W]: {X.shape}\")\n",
    "    print(f\"Shape of y: {y.shape}, {y.dtype}\")\n",
    "    break"
   ]
  },
  {
   "cell_type": "code",
   "execution_count": 4,
   "id": "faa065b6-b5f0-4768-8648-0d7c1e993ba1",
   "metadata": {},
   "outputs": [
    {
     "name": "stdout",
     "output_type": "stream",
     "text": [
      "Using device: cpu\n",
      "Apple Neural Engine\n",
      "MNIST_CNN(\n",
      "  (conv1): Conv2d(1, 32, kernel_size=(3, 3), stride=(1, 1), padding=(1, 1))\n",
      "  (conv2): Conv2d(32, 64, kernel_size=(3, 3), stride=(1, 1), padding=(1, 1))\n",
      "  (dropout1): Dropout(p=0.75, inplace=False)\n",
      "  (dropout2): Dropout(p=0.75, inplace=False)\n",
      "  (fc1): Linear(in_features=12544, out_features=1024, bias=True)\n",
      "  (fc2): Linear(in_features=1024, out_features=10, bias=True)\n",
      ")\n"
     ]
    }
   ],
   "source": [
    "device = torch.device(\"cuda\" if torch.cuda.is_available() else \"cpu\")\n",
    "\n",
    "print(f\"Using device: {device}\")\n",
    "print(torch.cuda.get_device_name(0) if device.type == \"cuda\" else \"Apple Neural Engine\")\n",
    "\n",
    "class MNIST_CNN(nn.Module):\n",
    "    def __init__(self):\n",
    "        super(MNIST_CNN, self).__init__()\n",
    "        self.conv1 = nn.Conv2d(1, 32, kernel_size=3, stride=1, padding=1)\n",
    "        self.conv2 = nn.Conv2d(32, 64, kernel_size=3, stride=1, padding=1)\n",
    "        self.dropout1 = nn.Dropout(0.75)\n",
    "        self.dropout2 = nn.Dropout(0.75)\n",
    "        self.fc1 = nn.Linear(12544, 1024)\n",
    "        self.fc2 = nn.Linear(1024, 10)\n",
    "\n",
    "    def forward(self, x):\n",
    "        x = self.conv1(x)\n",
    "        x = nn.functional.relu(x)\n",
    "        x = self.conv2(x)\n",
    "        x = nn.functional.relu(x)\n",
    "        x = nn.functional.max_pool2d(x, 2)\n",
    "        x = self.dropout1(x)\n",
    "        #print(x.size())\n",
    "        x = torch.flatten(x, 1)\n",
    "        #print(x.size())\n",
    "        x = self.fc1(x)\n",
    "        x = nn.functional.relu(x)\n",
    "        x = self.dropout2(x)\n",
    "        x = self.fc2(x)\n",
    "        output = nn.functional.log_softmax(x, dim=1)\n",
    "        return output\n",
    "\n",
    "model = MNIST_CNN().to(device)\n",
    "print(model)"
   ]
  },
  {
   "cell_type": "code",
   "execution_count": 5,
   "id": "6af5832a-c179-49fe-96bf-0e709405b93f",
   "metadata": {},
   "outputs": [],
   "source": [
    "loss_fn = nn.CrossEntropyLoss()\n",
    "optimizer = torch.optim.Adam(model.parameters(), lr = 1e-3)"
   ]
  },
  {
   "cell_type": "code",
   "execution_count": 6,
   "id": "5a0fe9e1-f2f1-498b-af3d-7122e037c38a",
   "metadata": {},
   "outputs": [],
   "source": [
    "def train(dataloader, model, loss_fn, optimizer):\n",
    "    size = len(dataloader.dataset)\n",
    "    model.train()\n",
    "    for batch, (X,y) in enumerate(dataloader):\n",
    "        X,y = X.to(device), y.to(device)\n",
    "        \n",
    "        # Compute the prediction error\n",
    "        pred = model(X)\n",
    "        loss = loss_fn(pred, y)\n",
    "        \n",
    "        # Backpropagation\n",
    "        loss.backward()\n",
    "        optimizer.step()\n",
    "        optimizer.zero_grad()\n",
    "        \n",
    "        if batch % 100 == 0:\n",
    "            loss, current = loss.item(), (batch + 1 )*len(X)\n",
    "            print(f\"loss: {loss:>7f} [{current:>5d}/{size: >5d}]\")"
   ]
  },
  {
   "cell_type": "code",
   "execution_count": 7,
   "id": "6972f851-2a1d-4ff4-8321-60e6ddc7dbb5",
   "metadata": {},
   "outputs": [],
   "source": [
    "def test(dataloader, model, loss_fn):\n",
    "    size = len(dataloader.dataset)\n",
    "    num_batches = len(dataloader)\n",
    "    model.eval()\n",
    "    test_loss, correct = 0, 0\n",
    "    with torch.no_grad():\n",
    "        for X, y in dataloader:\n",
    "            X, y = X.to(device), y.to(device)\n",
    "            pred = model(X)\n",
    "            test_loss += loss_fn(pred,y).item()\n",
    "            correct += (pred.argmax(1) == y).type(torch.float).sum().item()\n",
    "    test_loss /= num_batches\n",
    "    correct /= size\n",
    "    print(f\"Test Error:\\n Accuracy: {(100*correct):>0.1f}%, Avg loss: {test_loss:>8f}\\n\")"
   ]
  },
  {
   "cell_type": "code",
   "execution_count": 8,
   "id": "2bb3cfa2-7372-4b71-9541-866342072a03",
   "metadata": {},
   "outputs": [
    {
     "name": "stdout",
     "output_type": "stream",
     "text": [
      "Epoch 1\n",
      " -------------------------\n",
      "loss: 2.300680 [   64/60000]\n",
      "loss: 0.588638 [ 6464/60000]\n",
      "loss: 0.315839 [12864/60000]\n",
      "loss: 0.327128 [19264/60000]\n",
      "loss: 0.073848 [25664/60000]\n",
      "loss: 0.223440 [32064/60000]\n",
      "loss: 0.156897 [38464/60000]\n",
      "loss: 0.293132 [44864/60000]\n",
      "loss: 0.309811 [51264/60000]\n",
      "loss: 0.233633 [57664/60000]\n",
      "Test Error:\n",
      " Accuracy: 98.0%, Avg loss: 0.060058\n",
      "\n",
      "Epoch 2\n",
      " -------------------------\n",
      "loss: 0.083324 [   64/60000]\n",
      "loss: 0.181408 [ 6464/60000]\n",
      "loss: 0.112433 [12864/60000]\n",
      "loss: 0.062756 [19264/60000]\n",
      "loss: 0.106322 [25664/60000]\n",
      "loss: 0.253785 [32064/60000]\n",
      "loss: 0.098289 [38464/60000]\n",
      "loss: 0.093422 [44864/60000]\n",
      "loss: 0.258661 [51264/60000]\n",
      "loss: 0.246725 [57664/60000]\n",
      "Test Error:\n",
      " Accuracy: 98.5%, Avg loss: 0.044069\n",
      "\n",
      "Epoch 3\n",
      " -------------------------\n",
      "loss: 0.063777 [   64/60000]\n",
      "loss: 0.143846 [ 6464/60000]\n",
      "loss: 0.081036 [12864/60000]\n",
      "loss: 0.208270 [19264/60000]\n",
      "loss: 0.020026 [25664/60000]\n",
      "loss: 0.058829 [32064/60000]\n",
      "loss: 0.110821 [38464/60000]\n",
      "loss: 0.191738 [44864/60000]\n",
      "loss: 0.162323 [51264/60000]\n",
      "loss: 0.072741 [57664/60000]\n",
      "Test Error:\n",
      " Accuracy: 98.8%, Avg loss: 0.037071\n",
      "\n",
      "Epoch 4\n",
      " -------------------------\n",
      "loss: 0.077512 [   64/60000]\n",
      "loss: 0.055588 [ 6464/60000]\n",
      "loss: 0.031468 [12864/60000]\n",
      "loss: 0.040011 [19264/60000]\n",
      "loss: 0.081724 [25664/60000]\n",
      "loss: 0.033885 [32064/60000]\n",
      "loss: 0.080943 [38464/60000]\n",
      "loss: 0.128199 [44864/60000]\n",
      "loss: 0.249672 [51264/60000]\n",
      "loss: 0.145398 [57664/60000]\n",
      "Test Error:\n",
      " Accuracy: 98.9%, Avg loss: 0.033177\n",
      "\n",
      "Epoch 5\n",
      " -------------------------\n",
      "loss: 0.076011 [   64/60000]\n",
      "loss: 0.138640 [ 6464/60000]\n",
      "loss: 0.026508 [12864/60000]\n",
      "loss: 0.085211 [19264/60000]\n",
      "loss: 0.060963 [25664/60000]\n",
      "loss: 0.031942 [32064/60000]\n",
      "loss: 0.130148 [38464/60000]\n",
      "loss: 0.136756 [44864/60000]\n",
      "loss: 0.131015 [51264/60000]\n",
      "loss: 0.144959 [57664/60000]\n",
      "Test Error:\n",
      " Accuracy: 99.1%, Avg loss: 0.030639\n",
      "\n",
      "Done!\n"
     ]
    }
   ],
   "source": [
    "epochs = 5\n",
    "for t in range(epochs):\n",
    "    print(f\"Epoch {t+1}\\n -------------------------\")\n",
    "    train(train_dataloader, model, loss_fn, optimizer)\n",
    "    test(test_dataloader, model, loss_fn)\n",
    "print(\"Done!\")"
   ]
  },
  {
   "cell_type": "code",
   "execution_count": 9,
   "id": "c182295d-6e8f-4c15-a2b7-1e96287478a0",
   "metadata": {},
   "outputs": [
    {
     "name": "stdout",
     "output_type": "stream",
     "text": [
      "Saved PyTorch Model State to MNIST_CNN.pth\n"
     ]
    }
   ],
   "source": [
    "torch.save(model.state_dict(), \"MNIST_CNN.pth\")\n",
    "print(\"Saved PyTorch Model State to MNIST_CNN.pth\")"
   ]
  },
  {
   "cell_type": "code",
   "execution_count": null,
   "id": "ae6f4268-9aca-4d68-9177-ca519c6bb03a",
   "metadata": {},
   "outputs": [],
   "source": []
  }
 ],
 "metadata": {
  "kernelspec": {
   "display_name": "Python 3 (ipykernel)",
   "language": "python",
   "name": "python3"
  },
  "language_info": {
   "codemirror_mode": {
    "name": "ipython",
    "version": 3
   },
   "file_extension": ".py",
   "mimetype": "text/x-python",
   "name": "python",
   "nbconvert_exporter": "python",
   "pygments_lexer": "ipython3",
   "version": "3.9.13"
  }
 },
 "nbformat": 4,
 "nbformat_minor": 5
}
